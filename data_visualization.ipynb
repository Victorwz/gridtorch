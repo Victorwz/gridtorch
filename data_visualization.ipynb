{
 "cells": [
  {
   "cell_type": "code",
   "execution_count": 2,
   "metadata": {},
   "outputs": [
    {
     "data": {
      "text/plain": [
       "<matplotlib.collections.PathCollection at 0x2c538423320>"
      ]
     },
     "execution_count": 2,
     "metadata": {},
     "output_type": "execute_result"
    },
    {
     "data": {
      "image/png": "[encoded data removed]",
      "text/plain": [
       "<Figure size 432x288 with 1 Axes>"
      ]
     },
     "metadata": {
      "needs_background": "light"
     },
     "output_type": "display_data"
    }
   ],
   "source": [
    "import torch\n",
    "import numpy\n",
    "import sys\n",
    "\n",
    "from dataloading import Dataset\n",
    "import utils\n",
    "import glob\n",
    "import matplotlib.pyplot as plt \n",
    "from torch.utils import data\n",
    "\n",
    "data_params = {'batch_size': 10000,\n",
    "          'shuffle': True,\n",
    "          'num_workers': 1, # num cpus,\n",
    "          }\n",
    "loader = Dataset()\n",
    "dataset = Dataset(batch_size=data_params['batch_size'])\n",
    "data_generator = data.DataLoader(dataset)\n",
    "\n",
    "for x, y in data_generator:\n",
    "    break\n",
    "    \n",
    "loaded_target_pos , _ = y\n",
    "loaded_init_pos, loaded_init_hd, loaded_ego_vel = x\n",
    "\n",
    "loaded_target_pos, _ = y\n",
    "plt.scatter(loaded_target_pos.numpy()[0].T[0], loaded_target_pos.numpy()[0].T[1])\n"
   ]
  }
 ],
 "metadata": {
  "kernelspec": {
   "display_name": "Python 3",
   "language": "python",
   "name": "python3"
  },
  "language_info": {
   "codemirror_mode": {
    "name": "ipython",
    "version": 3
   },
   "file_extension": ".py",
   "mimetype": "text/x-python",
   "name": "python",
   "nbconvert_exporter": "python",
   "pygments_lexer": "ipython3",
   "version": "3.7.3"
  }
 },
 "nbformat": 4,
 "nbformat_minor": 2
}
